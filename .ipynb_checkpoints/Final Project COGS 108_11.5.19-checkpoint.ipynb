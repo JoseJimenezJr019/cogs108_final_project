{
 "cells": [
  {
   "cell_type": "markdown",
   "metadata": {},
   "source": [
    "# Road Safety in San Diego County"
   ]
  },
  {
   "cell_type": "markdown",
   "metadata": {},
   "source": [
    "# Overview"
   ]
  },
  {
   "cell_type": "markdown",
   "metadata": {},
   "source": [
    "# Names"
   ]
  },
  {
   "cell_type": "markdown",
   "metadata": {},
   "source": [
    "# Group Member IDs"
   ]
  },
  {
   "cell_type": "markdown",
   "metadata": {},
   "source": [
    "# Research Question"
   ]
  },
  {
   "cell_type": "markdown",
   "metadata": {},
   "source": [
    "# Background and Prior Work"
   ]
  },
  {
   "cell_type": "markdown",
   "metadata": {},
   "source": [
    "\n",
    "Fill in your background and prior work here\n",
    "\n",
    "References (include links):\n",
    "\n",
    "1)\n",
    "2)"
   ]
  },
  {
   "cell_type": "markdown",
   "metadata": {},
   "source": [
    "# Hypothesis"
   ]
  },
  {
   "cell_type": "markdown",
   "metadata": {},
   "source": [
    "# Datasets"
   ]
  },
  {
   "cell_type": "markdown",
   "metadata": {},
   "source": [
    "Fill in your dataset information here\n",
    "\n",
    "(Copy this information for each dataset)\n",
    "\n",
    "Dataset Name:\n",
    "Link to the dataset:\n",
    "Number of observations:\n",
    "1-2 sentences describing each dataset.\n",
    "\n",
    "If you plan to use multiple datasets, add 1-2 sentences about how you plan to combine these datasets."
   ]
  },
  {
   "cell_type": "markdown",
   "metadata": {},
   "source": [
    "# Setup"
   ]
  },
  {
   "cell_type": "code",
   "execution_count": null,
   "metadata": {},
   "outputs": [],
   "source": [
    "# !pip install geojson"
   ]
  },
  {
   "cell_type": "code",
   "execution_count": null,
   "metadata": {},
   "outputs": [],
   "source": [
    "#imports \n",
    "\n",
    "# Import libraries\n",
    "import numpy as np\n",
    "import pandas as pd\n",
    "import matplotlib.pyplot as plt\n",
    "import seaborn as sns\n",
    "\n",
    "# For data cleaning\n",
    "import string\n",
    "\n",
    "# Display plots directly in the notebook instead of in a new window\n",
    "%matplotlib inline"
   ]
  },
  {
   "cell_type": "code",
   "execution_count": null,
   "metadata": {},
   "outputs": [],
   "source": [
    "# Configure libraries\n",
    "# The seaborn library makes plots look nicer\n",
    "sns.set()\n",
    "sns.set_context('talk')\n",
    "\n",
    "# Round decimals when displaying DataFrames\n",
    "pd.set_option('precision', 2)"
   ]
  },
  {
   "cell_type": "markdown",
   "metadata": {},
   "source": [
    "# Data Cleaning"
   ]
  },
  {
   "cell_type": "code",
   "execution_count": null,
   "metadata": {},
   "outputs": [],
   "source": [
    "# Read police stops Data Frame\n",
    "df_police_stops = pd.read_csv(\"datasets/police_stops/ripa_stops_datasd_v1.csv\")\n",
    "\n",
    "# Read collisions Data Frame\n",
    "df_collisions = pd.read_csv(\"datasets/traffic_collisions/pd_collisions_datasd_v1.csv\")\n",
    "\n",
    "# Read police calls in 2015, 2016, 2017, 2018, and 2019 into seperate Data Frames\n",
    "df_police_calls1 = pd.read_csv(\"datasets/police_calls/pd_calls_for_service_2015_datasd_v1.csv\")\n",
    "df_police_calls2 = pd.read_csv(\"datasets/police_calls/pd_calls_for_service_2016_datasd_v1.csv\")\n",
    "df_police_calls3 = pd.read_csv(\"datasets/police_calls/pd_calls_for_service_2017_datasd_v1.csv\")\n",
    "df_police_calls4 = pd.read_csv(\"datasets/police_calls/pd_calls_for_service_2018_datasd.csv\")\n",
    "df_police_calls5 = pd.read_csv(\"datasets/police_calls/pd_calls_for_service_2019_datasd.csv\")"
   ]
  },
  {
   "cell_type": "code",
   "execution_count": null,
   "metadata": {},
   "outputs": [],
   "source": [
    "# Merging police calls in 2015,2016,2017,2018,2019 into one Data Frame \n",
    "df_police_calls = pd.concat([df_police_calls1, df_police_calls2,df_police_calls3,df_police_calls4,df_police_calls5])\n",
    "\n",
    "df_police_calls.tail() #checks that the Data Frames were merged properly"
   ]
  },
  {
   "cell_type": "markdown",
   "metadata": {},
   "source": [
    "# DATA CLEANING"
   ]
  },
  {
   "cell_type": "markdown",
   "metadata": {},
   "source": [
    "## df_collisions"
   ]
  },
  {
   "cell_type": "code",
   "execution_count": null,
   "metadata": {},
   "outputs": [],
   "source": [
    "# Traffic Collisions\n",
    "\n",
    "# Date Time\n",
    "\n",
    "# Creating seperate columns for Date and Time\n",
    "date_time = df_collisions['date_time'].str.split(' ', n=1, expand=True)\n",
    "df_collisions = df_collisions.drop(['date_time'], axis=1)\n",
    "df_collisions['date'] = date_time[0]\n",
    "df_collisions['time'] = date_time[1]\n",
    "\n",
    "# convert the 'date' and 'time' columns to datetime data types \n",
    "df_collisions['date']= pd.to_datetime(df_collisions['date']) \n",
    "df_collisions['time']= pd.to_datetime(df_collisions['time']) "
   ]
  },
  {
   "cell_type": "code",
   "execution_count": null,
   "metadata": {},
   "outputs": [],
   "source": [
    "# Traffic Collisions\n",
    "\n",
    "# droping useless columns\n",
    "drop_cols_collision = ['address_pd_primary','address_pd_intersecting', 'address_name_intersecting', 'address_sfx_intersecting','report_id']\n",
    "df_collisions = df_collisions.drop(drop_cols_collision, axis = 1)\n"
   ]
  },
  {
   "cell_type": "code",
   "execution_count": null,
   "metadata": {},
   "outputs": [],
   "source": [
    "# Traffic Collisions\n",
    "\n",
    "\n",
    "# Changing datatype of address_number_primary from int to str\n",
    "df_collisions['address_number_primary'] = df_collisions.address_number_primary.astype(str)"
   ]
  },
  {
   "cell_type": "code",
   "execution_count": null,
   "metadata": {},
   "outputs": [],
   "source": [
    "# Traffic Collisions\n",
    "\n",
    "# String manipulations\n",
    "\n",
    "# Making everything lowercase\n",
    "df_collisions['address_road_primary'] = df_collisions['address_road_primary'].str.lower()\n",
    "df_collisions['address_sfx_primary'] = df_collisions['address_sfx_primary'].str.lower()\n",
    "df_collisions['charge_desc'] = df_collisions['charge_desc'].str.lower()\n",
    "df_collisions['hit_run_lvl'] = df_collisions['hit_run_lvl'].str.lower()\n",
    "\n",
    "#stripping gets rid of extraneous spaces to allow for easier processing of data\n",
    "df_collisions['address_road_primary'] = df_collisions.address_road_primary.str.strip()\n",
    "df_collisions['address_sfx_primary'] = df_collisions.address_sfx_primary.str.strip()\n",
    "df_collisions['violation_section']= df_collisions.violation_section.str.strip()\n",
    "df_collisions['violation_type'] = df_collisions.violation_type.str.strip()\n",
    "df_collisions['charge_desc'] = df_collisions.charge_desc.str.strip()\n",
    "df_collisions['hit_run_lvl'] = df_collisions.hit_run_lvl.str.strip()"
   ]
  },
  {
   "cell_type": "markdown",
   "metadata": {},
   "source": [
    "## df_police calls"
   ]
  },
  {
   "cell_type": "code",
   "execution_count": null,
   "metadata": {},
   "outputs": [],
   "source": [
    "# Police Calls\n",
    "\n",
    "# Change entries in col 'day_of_week' to represent the day of the week in words\n",
    "df_police_calls['day_of_week'] = df_police_calls['day_of_week'].replace(1,'Monday')\n",
    "df_police_calls['day_of_week'] = df_police_calls['day_of_week'].replace(2,'Tuesday')\n",
    "df_police_calls['day_of_week'] = df_police_calls['day_of_week'].replace(3,'Wednesday')\n",
    "df_police_calls['day_of_week'] = df_police_calls['day_of_week'].replace(4,'Thursday')\n",
    "df_police_calls['day_of_week'] = df_police_calls['day_of_week'].replace(5,'Friday')\n",
    "df_police_calls['day_of_week'] = df_police_calls['day_of_week'].replace(6,'Saturday')\n",
    "df_police_calls['day_of_week'] = df_police_calls['day_of_week'].replace(7,'Sunday')"
   ]
  },
  {
   "cell_type": "code",
   "execution_count": null,
   "metadata": {},
   "outputs": [],
   "source": [
    "# Police Calls\n",
    "\n",
    "# Date Time\n",
    "\n",
    "# Creating seperate columns for Date and Time\n",
    "date_time = df_police_calls['date_time'].str.split(' ', n=1, expand=True)\n",
    "df_police_calls = df_police_calls.drop(['date_time'], axis=1)\n",
    "df_police_calls['date'] = date_time[0]\n",
    "df_police_calls['time'] = date_time[1]\n",
    "\n",
    "# convert the 'Date' column to datetime format \n",
    "df_police_calls['date']= pd.to_datetime(df_police_calls['date']) \n",
    "df_police_calls['time']= pd.to_datetime(df_police_calls['time']) "
   ]
  },
  {
   "cell_type": "code",
   "execution_count": null,
   "metadata": {},
   "outputs": [],
   "source": [
    "# Changing datatype of address_number_primary from int to str\n",
    "df_police_calls['address_number_primary'] = df_police_calls.address_number_primary.astype(str)"
   ]
  },
  {
   "cell_type": "code",
   "execution_count": null,
   "metadata": {},
   "outputs": [],
   "source": [
    "# Police Calls\n",
    "\n",
    "# dropping useless columns\n",
    "drop_cols_calls = ['address_dir_primary', 'address_dir_intersecting','incident_num']\n",
    "df_police_calls = df_police_calls.drop(drop_cols_calls,axis = 1)\n"
   ]
  },
  {
   "cell_type": "code",
   "execution_count": null,
   "metadata": {},
   "outputs": [],
   "source": [
    "# Police Calls\n",
    "\n",
    "# String manipulations\n",
    "\n",
    "# making everything lowercase\n",
    "df_police_calls['address_road_primary']=df_police_calls['address_road_primary'].str.lower()\n",
    "df_police_calls['address_road_intersecting']=df_police_calls['address_road_intersecting'].str.lower()\n",
    "df_police_calls['address_sfx_primary'] = df_police_calls['address_sfx_primary'].str.lower()\n",
    "\n",
    "# strip any extra spaces in string data\n",
    "df_police_calls['address_road_primary']= df_police_calls.address_road_primary.str.strip()\n",
    "df_police_calls['address_sfx_primary'] = df_police_calls.address_sfx_primary.str.strip()\n",
    "df_police_calls['address_road_intersecting']= df_police_calls.address_road_intersecting.str.strip()\n",
    "df_police_calls['call_type'] = df_police_calls.call_type.str.strip()\n",
    "df_police_calls['disposition'] = df_police_calls.disposition.str.strip()"
   ]
  },
  {
   "cell_type": "code",
   "execution_count": null,
   "metadata": {},
   "outputs": [],
   "source": [
    "# Police calls\n",
    "\n",
    "# Creating a single coulumn for primary address\n",
    "df_police_calls['Primary address']= df_police_calls.address_number_primary + ' ' + df_police_calls.address_road_primary + ' '+ df_police_calls.address_sfx_primary\n",
    "\n",
    "# Creating a single coulumn for intersecting address\n",
    "df_police_calls['Intersecting address'] = df_police_calls.address_road_intersecting+ ' '+ df_police_calls.address_sfx_intersecting\n",
    "\n",
    "# Dropping the newly useless columns\n",
    "cols_drop = ['address_number_primary','address_road_primary','address_sfx_primary','address_sfx_intersecting','address_road_intersecting']\n",
    "df_police_calls = df_police_calls.drop(cols_drop,axis = 1)"
   ]
  },
  {
   "cell_type": "markdown",
   "metadata": {},
   "source": [
    "## df_police_stops"
   ]
  },
  {
   "cell_type": "code",
   "execution_count": null,
   "metadata": {},
   "outputs": [],
   "source": [
    "# Police Stops\n",
    "\n",
    "drop_cols_stops = ['isstudent', 'gend_nc','agency','stop_id']\n",
    "df_police_stops = df_police_stops.drop(drop_cols_stops, axis = 1)"
   ]
  },
  {
   "cell_type": "code",
   "execution_count": null,
   "metadata": {},
   "outputs": [],
   "source": [
    "# Police Stops\n",
    "\n",
    "# String manipulations\n",
    "\n",
    "# making everything lowercase\n",
    "df_police_stops['address_city'] = df_police_stops['address_city'].str.lower()"
   ]
  },
  {
   "cell_type": "markdown",
   "metadata": {},
   "source": [
    "# Data Analysis & Results"
   ]
  },
  {
   "cell_type": "markdown",
   "metadata": {},
   "source": [
    "# Ethics & Privacy"
   ]
  },
  {
   "cell_type": "markdown",
   "metadata": {},
   "source": [
    "# Conclusion & Discussion"
   ]
  },
  {
   "cell_type": "markdown",
   "metadata": {},
   "source": [
    "## Geospatial tools\n",
    "- Geojson: https://pypi.org/project/geojson/\n",
    "    - https://www.datacamp.com/community/tutorials/geospatial-data-python\n",
    "- GeoPandas: http://geopandas.org/"
   ]
  },
  {
   "cell_type": "markdown",
   "metadata": {},
   "source": [
    "visualization tools: https://medium.com/@stallonejacob/d3-in-juypter-notebook-685d6dca75c8"
   ]
  }
 ],
 "metadata": {
  "kernelspec": {
   "display_name": "Python 3",
   "language": "python",
   "name": "python3"
  },
  "language_info": {
   "codemirror_mode": {
    "name": "ipython",
    "version": 3
   },
   "file_extension": ".py",
   "mimetype": "text/x-python",
   "name": "python",
   "nbconvert_exporter": "python",
   "pygments_lexer": "ipython3",
   "version": "3.7.1"
  }
 },
 "nbformat": 4,
 "nbformat_minor": 2
}
