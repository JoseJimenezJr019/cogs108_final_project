{
 "cells": [
  {
   "cell_type": "markdown",
   "metadata": {},
   "source": [
    "# Road Safety in San Diego County"
   ]
  },
  {
   "cell_type": "markdown",
   "metadata": {},
   "source": [
    "# Overview"
   ]
  },
  {
   "cell_type": "markdown",
   "metadata": {},
   "source": [
    "# Names"
   ]
  },
  {
   "cell_type": "markdown",
   "metadata": {},
   "source": [
    "# Group Member IDs"
   ]
  },
  {
   "cell_type": "markdown",
   "metadata": {},
   "source": [
    "# Research Question"
   ]
  },
  {
   "cell_type": "markdown",
   "metadata": {},
   "source": [
    "# Background and Prior Work"
   ]
  },
  {
   "cell_type": "markdown",
   "metadata": {},
   "source": [
    "\n",
    "Fill in your background and prior work here\n",
    "\n",
    "References (include links):\n",
    "\n",
    "1)\n",
    "2)"
   ]
  },
  {
   "cell_type": "markdown",
   "metadata": {},
   "source": [
    "# Hypothesis"
   ]
  },
  {
   "cell_type": "markdown",
   "metadata": {},
   "source": [
    "# Datasets"
   ]
  },
  {
   "cell_type": "markdown",
   "metadata": {},
   "source": [
    "Fill in your dataset information here\n",
    "\n",
    "(Copy this information for each dataset)\n",
    "\n",
    "Dataset Name:\n",
    "Link to the dataset:\n",
    "Number of observations:\n",
    "1-2 sentences describing each dataset.\n",
    "\n",
    "If you plan to use multiple datasets, add 1-2 sentences about how you plan to combine these datasets."
   ]
  },
  {
   "cell_type": "markdown",
   "metadata": {},
   "source": [
    "# Setup"
   ]
  },
  {
   "cell_type": "code",
   "execution_count": 4,
   "metadata": {
    "pycharm": {
     "is_executing": false
    }
   },
   "outputs": [],
   "source": [
    "# !pip install geojson"
   ]
  },
  {
   "cell_type": "code",
   "execution_count": 5,
   "metadata": {
    "pycharm": {
     "is_executing": false
    }
   },
   "outputs": [],
   "source": [
    "#imports \n",
    "\n",
    "# Import libraries\n",
    "import numpy as np\n",
    "import pandas as pd\n",
    "import matplotlib.pyplot as plt\n",
    "import seaborn as sns\n",
    "\n",
    "# For data cleaning\n",
    "import string\n",
    "\n",
    "# Display plots directly in the notebook instead of in a new window\n",
    "%matplotlib inline"
   ]
  },
  {
   "cell_type": "code",
   "execution_count": 6,
   "metadata": {
    "pycharm": {
     "is_executing": false
    }
   },
   "outputs": [],
   "source": [
    "# Configure libraries\n",
    "# The seaborn library makes plots look nicer\n",
    "sns.set()\n",
    "sns.set_context('talk')\n",
    "\n",
    "# Round decimals when displaying DataFrames\n",
    "pd.set_option('precision', 2)"
   ]
  },
  {
   "cell_type": "markdown",
   "metadata": {},
   "source": [
    "# Data Cleaning"
   ]
  },
  {
   "cell_type": "code",
   "execution_count": 7,
   "metadata": {
    "pycharm": {
     "is_executing": false
    }
   },
   "outputs": [
    {
     "name": "stderr",
     "text": [
      "C:\\Users\\josej\\.conda\\envs\\cogs108\\lib\\site-packages\\IPython\\core\\interactiveshell.py:3058: DtypeWarning: Columns (12) have mixed types. Specify dtype option on import or set low_memory=False.\n  interactivity=interactivity, compiler=compiler, result=result)\n",
      "C:\\Users\\josej\\.conda\\envs\\cogs108\\lib\\site-packages\\IPython\\core\\interactiveshell.py:3058: DtypeWarning: Columns (7,9,12,13) have mixed types. Specify dtype option on import or set low_memory=False.\n  interactivity=interactivity, compiler=compiler, result=result)\n"
     ],
     "output_type": "stream"
    }
   ],
   "source": [
    "# Read police stops Data Frame\n",
    "df_police_stops = pd.read_csv(\"datasets/police_stops/ripa_stops_datasd_v1.csv\")\n",
    "\n",
    "# Read collisions Data Frame\n",
    "df_collisions = pd.read_csv(\"datasets/traffic_collisions/pd_collisions_datasd_v1.csv\")\n",
    "\n",
    "# Read police calls in 2015, 2016, 2017, 2018, and 2019 into seperate Data Frames\n",
    "df_police_calls1 = pd.read_csv(\"datasets/police_calls/pd_calls_for_service_2015_datasd_v1.csv\")\n",
    "df_police_calls2 = pd.read_csv(\"datasets/police_calls/pd_calls_for_service_2016_datasd_v1.csv\")\n",
    "df_police_calls3 = pd.read_csv(\"datasets/police_calls/pd_calls_for_service_2017_datasd_v1.csv\")\n",
    "df_police_calls4 = pd.read_csv(\"datasets/police_calls/pd_calls_for_service_2018_datasd.csv\")\n",
    "df_police_calls5 = pd.read_csv(\"datasets/police_calls/pd_calls_for_service_2019_datasd.csv\")"
   ]
  },
  {
   "cell_type": "code",
   "execution_count": 8,
   "metadata": {
    "pycharm": {
     "is_executing": false
    }
   },
   "outputs": [],
   "source": [
    "# Merging police calls in 2015,2016,2017,2018,2019 into one Data Frame \n",
    "df_police_calls = pd.concat([df_police_calls1, df_police_calls2,df_police_calls3,df_police_calls4,df_police_calls5])\n",
    "\n",
    "# check that the Data Frames were merged properly\n",
    "df_police_calls.head()  # shows 2015 data\n",
    "# df_police_calls.tail() # shows 2019 data\n",
    "\n",
    "df_police_calls.to_csv(\"datasets/police_calls/pd_calls_for_service_all.csv\", index=False)"
   ]
  },
  {
   "cell_type": "markdown",
   "metadata": {},
   "source": [
    "# DATA CLEANING"
   ]
  },
  {
   "cell_type": "markdown",
   "metadata": {},
   "source": [
    "## df_collisions"
   ]
  },
  {
   "cell_type": "code",
   "execution_count": 6,
   "metadata": {},
   "outputs": [],
   "source": [
    "# Traffic Collisions\n",
    "\n",
    "# Returns the current structure, shape, column names, and data type of each column\n",
    "# df_collisions.info()"
   ]
  },
  {
   "cell_type": "code",
   "execution_count": 7,
   "metadata": {},
   "outputs": [],
   "source": [
    "# Traffic Collisions\n",
    "\n",
    "# Date Time\n",
    "\n",
    "# Creating seperate columns for Date and Time\n",
    "date_time = df_collisions['date_time'].str.split(' ', n=1, expand=True)\n",
    "df_collisions = df_collisions.drop(['date_time'], axis=1)\n",
    "df_collisions['date'] = date_time[0]\n",
    "df_collisions['time'] = date_time[1]\n"
   ]
  },
  {
   "cell_type": "code",
   "execution_count": 8,
   "metadata": {},
   "outputs": [],
   "source": [
    "\n",
    "# Convert the 'date' and 'time' columns to datetime data types \n",
    "df_collisions['date']= pd.to_datetime(df_collisions['date']) \n",
    "df_collisions['time']= pd.to_datetime(df_collisions['time'])\n",
    "\n",
    "# Checking that columns 'date' and 'time' are now datetime objects\n",
    "\n",
    "# assert isinstance(df_collisions.date,datetime)"
   ]
  },
  {
   "cell_type": "code",
   "execution_count": 9,
   "metadata": {},
   "outputs": [],
   "source": [
    "# Traffic Collisions\n",
    "\n",
    "# droping useless columns\n",
    "drop_cols_collision = ['address_pd_primary','address_pd_intersecting', 'address_name_intersecting', 'address_sfx_intersecting','report_id']\n",
    "df_collisions = df_collisions.drop(drop_cols_collision, axis = 1)\n"
   ]
  },
  {
   "cell_type": "code",
   "execution_count": 10,
   "metadata": {},
   "outputs": [],
   "source": [
    "# Traffic Collisions\n",
    "\n",
    "\n",
    "# Changing datatype of address_number_primary from int to str\n",
    "df_collisions['address_number_primary'] = df_collisions.address_number_primary.astype(str)"
   ]
  },
  {
   "cell_type": "code",
   "execution_count": 11,
   "metadata": {},
   "outputs": [],
   "source": [
    "# Traffic Collisions\n",
    "\n",
    "# String manipulations\n",
    "\n",
    "# Making everything lowercase\n",
    "df_collisions['address_road_primary'] = df_collisions['address_road_primary'].str.lower()\n",
    "df_collisions['address_sfx_primary'] = df_collisions['address_sfx_primary'].str.lower()\n",
    "df_collisions['charge_desc'] = df_collisions['charge_desc'].str.lower()\n",
    "df_collisions['hit_run_lvl'] = df_collisions['hit_run_lvl'].str.lower()\n",
    "\n",
    "#stripping gets rid of extraneous spaces to allow for easier processing of data\n",
    "df_collisions['address_road_primary'] = df_collisions.address_road_primary.str.strip()\n",
    "df_collisions['address_sfx_primary'] = df_collisions.address_sfx_primary.str.strip()\n",
    "df_collisions['violation_section']= df_collisions.violation_section.str.strip()\n",
    "df_collisions['violation_type'] = df_collisions.violation_type.str.strip()\n",
    "df_collisions['charge_desc'] = df_collisions.charge_desc.str.strip()\n",
    "df_collisions['hit_run_lvl'] = df_collisions.hit_run_lvl.str.strip()"
   ]
  },
  {
   "cell_type": "markdown",
   "metadata": {},
   "source": [
    "## df_police calls"
   ]
  },
  {
   "cell_type": "code",
   "execution_count": 12,
   "metadata": {},
   "outputs": [],
   "source": [
    "# Police Calls\n",
    "\n",
    "# Change entries in col 'day_of_week' to represent the day of the week in words\n",
    "df_police_calls['day_of_week'] = df_police_calls['day_of_week'].replace(1,'Monday')\n",
    "df_police_calls['day_of_week'] = df_police_calls['day_of_week'].replace(2,'Tuesday')\n",
    "df_police_calls['day_of_week'] = df_police_calls['day_of_week'].replace(3,'Wednesday')\n",
    "df_police_calls['day_of_week'] = df_police_calls['day_of_week'].replace(4,'Thursday')\n",
    "df_police_calls['day_of_week'] = df_police_calls['day_of_week'].replace(5,'Friday')\n",
    "df_police_calls['day_of_week'] = df_police_calls['day_of_week'].replace(6,'Saturday')\n",
    "df_police_calls['day_of_week'] = df_police_calls['day_of_week'].replace(7,'Sunday')"
   ]
  },
  {
   "cell_type": "code",
   "execution_count": 13,
   "metadata": {},
   "outputs": [],
   "source": [
    "# Police Calls\n",
    "\n",
    "# Date Time\n",
    "\n",
    "# Creating seperate columns for Date and Time\n",
    "date_time = df_police_calls['date_time'].str.split(' ', n=1, expand=True)\n",
    "df_police_calls = df_police_calls.drop(['date_time'], axis=1)\n",
    "df_police_calls['date'] = date_time[0]\n",
    "df_police_calls['time'] = date_time[1]\n",
    "\n",
    "# convert the 'Date' column to datetime format \n",
    "df_police_calls['date']= pd.to_datetime(df_police_calls['date']) \n",
    "df_police_calls['time']= pd.to_datetime(df_police_calls['time']) "
   ]
  },
  {
   "cell_type": "code",
   "execution_count": 14,
   "metadata": {},
   "outputs": [],
   "source": [
    "# Changing datatype of address_number_primary from int to str\n",
    "df_police_calls['address_number_primary'] = df_police_calls.address_number_primary.astype(str)"
   ]
  },
  {
   "cell_type": "code",
   "execution_count": 15,
   "metadata": {},
   "outputs": [],
   "source": [
    "# Police Calls\n",
    "\n",
    "# dropping useless columns\n",
    "drop_cols_calls = ['address_dir_primary', 'address_dir_intersecting','incident_num']\n",
    "df_police_calls = df_police_calls.drop(drop_cols_calls,axis = 1)\n"
   ]
  },
  {
   "cell_type": "code",
   "execution_count": 16,
   "metadata": {},
   "outputs": [],
   "source": [
    "# Police Calls\n",
    "\n",
    "# String manipulations\n",
    "\n",
    "# making everything lowercase\n",
    "df_police_calls['address_road_primary']=df_police_calls['address_road_primary'].str.lower()\n",
    "df_police_calls['address_road_intersecting']=df_police_calls['address_road_intersecting'].str.lower()\n",
    "df_police_calls['address_sfx_primary'] = df_police_calls['address_sfx_primary'].str.lower()\n",
    "\n",
    "# strip any extra spaces in string data\n",
    "df_police_calls['address_road_primary']= df_police_calls.address_road_primary.str.strip()\n",
    "df_police_calls['address_sfx_primary'] = df_police_calls.address_sfx_primary.str.strip()\n",
    "df_police_calls['address_road_intersecting']= df_police_calls.address_road_intersecting.str.strip()\n",
    "df_police_calls['call_type'] = df_police_calls.call_type.str.strip()\n",
    "df_police_calls['disposition'] = df_police_calls.disposition.str.strip()"
   ]
  },
  {
   "cell_type": "code",
   "execution_count": 17,
   "metadata": {},
   "outputs": [],
   "source": [
    "# Police calls\n",
    "\n",
    "# Creating a single coulumn for primary address\n",
    "df_police_calls['Primary address']= df_police_calls.address_number_primary + ' ' + df_police_calls.address_road_primary + ' '+ df_police_calls.address_sfx_primary\n",
    "\n",
    "# Creating a single coulumn for intersecting address\n",
    "df_police_calls['Intersecting address'] = df_police_calls.address_road_intersecting+ ' '+ df_police_calls.address_sfx_intersecting\n",
    "\n",
    "# Dropping the newly useless columns\n",
    "cols_drop = ['address_number_primary','address_road_primary','address_sfx_primary','address_sfx_intersecting','address_road_intersecting']\n",
    "df_police_calls = df_police_calls.drop(cols_drop,axis = 1)"
   ]
  },
  {
   "cell_type": "markdown",
   "metadata": {},
   "source": [
    "## df_police_stops"
   ]
  },
  {
   "cell_type": "code",
   "execution_count": 18,
   "metadata": {},
   "outputs": [],
   "source": [
    "# Police Stops\n",
    "drop_cols_stops = ['isstudent', 'gend_nc','agency','stop_id']\n",
    "df_police_stops = df_police_stops.drop(drop_cols_stops, axis = 1)"
   ]
  },
  {
   "cell_type": "code",
   "execution_count": 19,
   "metadata": {},
   "outputs": [],
   "source": [
    "# Police Stops\n",
    "\n",
    "# String manipulations\n",
    "\n",
    "# making everything lowercase\n",
    "df_police_stops['address_city'] = df_police_stops['address_city'].str.lower()\n",
    "\n",
    "\n",
    "# Spliting the beat_name column into two columns such that beat name and beat number are seperate columns\n",
    "name_num = df_police_stops['beat_name'].str.split(' ', n=1, expand=True)\n",
    "df_police_stops = df_police_stops.drop(['beat_name'], axis=1)\n",
    "df_police_stops['beat_name'] = name_num[0]\n",
    "df_police_stops['beat_num'] = name_num[1]"
   ]
  },
  {
   "cell_type": "code",
   "execution_count": null,
   "metadata": {},
   "outputs": [],
   "source": []
  },
  {
   "cell_type": "markdown",
   "metadata": {},
   "source": [
    "# Data Analysis & Results"
   ]
  },
  {
   "cell_type": "code",
   "execution_count": 22,
   "metadata": {},
   "outputs": [
    {
     "data": {
      "text/html": [
       "<div>\n",
       "<style scoped>\n",
       "    .dataframe tbody tr th:only-of-type {\n",
       "        vertical-align: middle;\n",
       "    }\n",
       "\n",
       "    .dataframe tbody tr th {\n",
       "        vertical-align: top;\n",
       "    }\n",
       "\n",
       "    .dataframe thead th {\n",
       "        text-align: right;\n",
       "    }\n",
       "</style>\n",
       "<table border=\"1\" class=\"dataframe\">\n",
       "  <thead>\n",
       "    <tr style=\"text-align: right;\">\n",
       "      <th></th>\n",
       "      <th>ori</th>\n",
       "      <th>exp_years</th>\n",
       "      <th>date_stop</th>\n",
       "      <th>time_stop</th>\n",
       "      <th>stopduration</th>\n",
       "      <th>stop_in_response_to_cfs</th>\n",
       "      <th>officer_assignment_key</th>\n",
       "      <th>assignment</th>\n",
       "      <th>intersection</th>\n",
       "      <th>address_block</th>\n",
       "      <th>...</th>\n",
       "      <th>beat</th>\n",
       "      <th>pid</th>\n",
       "      <th>perceived_limited_english</th>\n",
       "      <th>perceived_age</th>\n",
       "      <th>perceived_gender</th>\n",
       "      <th>gender_nonconforming</th>\n",
       "      <th>gend</th>\n",
       "      <th>perceived_lgbt</th>\n",
       "      <th>beat_name</th>\n",
       "      <th>beat_num</th>\n",
       "    </tr>\n",
       "  </thead>\n",
       "  <tbody>\n",
       "    <tr>\n",
       "      <th>0</th>\n",
       "      <td>CA0371100</td>\n",
       "      <td>10</td>\n",
       "      <td>2018-07-01</td>\n",
       "      <td>00:01:37</td>\n",
       "      <td>30</td>\n",
       "      <td>0</td>\n",
       "      <td>1</td>\n",
       "      <td>Patrol, traffic enforcement, field operations</td>\n",
       "      <td>NaN</td>\n",
       "      <td>700.0</td>\n",
       "      <td>...</td>\n",
       "      <td>122</td>\n",
       "      <td>1</td>\n",
       "      <td>0</td>\n",
       "      <td>25</td>\n",
       "      <td>Male</td>\n",
       "      <td>0</td>\n",
       "      <td>1</td>\n",
       "      <td>No</td>\n",
       "      <td>Pacific</td>\n",
       "      <td>Beach 122</td>\n",
       "    </tr>\n",
       "    <tr>\n",
       "      <th>1</th>\n",
       "      <td>CA0371100</td>\n",
       "      <td>18</td>\n",
       "      <td>2018-07-01</td>\n",
       "      <td>00:03:34</td>\n",
       "      <td>10</td>\n",
       "      <td>0</td>\n",
       "      <td>1</td>\n",
       "      <td>Patrol, traffic enforcement, field operations</td>\n",
       "      <td>I-5</td>\n",
       "      <td>NaN</td>\n",
       "      <td>...</td>\n",
       "      <td>121</td>\n",
       "      <td>1</td>\n",
       "      <td>0</td>\n",
       "      <td>25</td>\n",
       "      <td>Male</td>\n",
       "      <td>0</td>\n",
       "      <td>1</td>\n",
       "      <td>No</td>\n",
       "      <td>Mission</td>\n",
       "      <td>Beach 121</td>\n",
       "    </tr>\n",
       "    <tr>\n",
       "      <th>2</th>\n",
       "      <td>CA0371100</td>\n",
       "      <td>1</td>\n",
       "      <td>2018-07-01</td>\n",
       "      <td>00:05:43</td>\n",
       "      <td>15</td>\n",
       "      <td>1</td>\n",
       "      <td>10</td>\n",
       "      <td>Other</td>\n",
       "      <td>NaN</td>\n",
       "      <td>4400.0</td>\n",
       "      <td>...</td>\n",
       "      <td>822</td>\n",
       "      <td>1</td>\n",
       "      <td>0</td>\n",
       "      <td>30</td>\n",
       "      <td>Male</td>\n",
       "      <td>0</td>\n",
       "      <td>1</td>\n",
       "      <td>No</td>\n",
       "      <td>El</td>\n",
       "      <td>Cerrito 822</td>\n",
       "    </tr>\n",
       "    <tr>\n",
       "      <th>3</th>\n",
       "      <td>CA0371100</td>\n",
       "      <td>1</td>\n",
       "      <td>2018-07-01</td>\n",
       "      <td>00:05:43</td>\n",
       "      <td>15</td>\n",
       "      <td>1</td>\n",
       "      <td>10</td>\n",
       "      <td>Other</td>\n",
       "      <td>NaN</td>\n",
       "      <td>4400.0</td>\n",
       "      <td>...</td>\n",
       "      <td>822</td>\n",
       "      <td>2</td>\n",
       "      <td>0</td>\n",
       "      <td>30</td>\n",
       "      <td>Female</td>\n",
       "      <td>0</td>\n",
       "      <td>2</td>\n",
       "      <td>No</td>\n",
       "      <td>El</td>\n",
       "      <td>Cerrito 822</td>\n",
       "    </tr>\n",
       "    <tr>\n",
       "      <th>4</th>\n",
       "      <td>CA0371100</td>\n",
       "      <td>3</td>\n",
       "      <td>2018-07-01</td>\n",
       "      <td>00:19:06</td>\n",
       "      <td>5</td>\n",
       "      <td>0</td>\n",
       "      <td>1</td>\n",
       "      <td>Patrol, traffic enforcement, field operations</td>\n",
       "      <td>NaN</td>\n",
       "      <td>4800.0</td>\n",
       "      <td>...</td>\n",
       "      <td>614</td>\n",
       "      <td>1</td>\n",
       "      <td>0</td>\n",
       "      <td>23</td>\n",
       "      <td>Male</td>\n",
       "      <td>0</td>\n",
       "      <td>1</td>\n",
       "      <td>No</td>\n",
       "      <td>Ocean</td>\n",
       "      <td>Beach 614</td>\n",
       "    </tr>\n",
       "  </tbody>\n",
       "</table>\n",
       "<p>5 rows × 26 columns</p>\n",
       "</div>"
      ],
      "text/plain": [
       "         ori  exp_years   date_stop time_stop  stopduration  \\\n",
       "0  CA0371100         10  2018-07-01  00:01:37            30   \n",
       "1  CA0371100         18  2018-07-01  00:03:34            10   \n",
       "2  CA0371100          1  2018-07-01  00:05:43            15   \n",
       "3  CA0371100          1  2018-07-01  00:05:43            15   \n",
       "4  CA0371100          3  2018-07-01  00:19:06             5   \n",
       "\n",
       "   stop_in_response_to_cfs  officer_assignment_key  \\\n",
       "0                        0                       1   \n",
       "1                        0                       1   \n",
       "2                        1                      10   \n",
       "3                        1                      10   \n",
       "4                        0                       1   \n",
       "\n",
       "                                      assignment intersection  address_block  \\\n",
       "0  Patrol, traffic enforcement, field operations          NaN          700.0   \n",
       "1  Patrol, traffic enforcement, field operations          I-5            NaN   \n",
       "2                                          Other          NaN         4400.0   \n",
       "3                                          Other          NaN         4400.0   \n",
       "4  Patrol, traffic enforcement, field operations          NaN         4800.0   \n",
       "\n",
       "      ...      beat pid perceived_limited_english  perceived_age  \\\n",
       "0     ...       122   1                         0             25   \n",
       "1     ...       121   1                         0             25   \n",
       "2     ...       822   1                         0             30   \n",
       "3     ...       822   2                         0             30   \n",
       "4     ...       614   1                         0             23   \n",
       "\n",
       "  perceived_gender gender_nonconforming  gend  perceived_lgbt  beat_name  \\\n",
       "0             Male                    0     1              No    Pacific   \n",
       "1             Male                    0     1              No    Mission   \n",
       "2             Male                    0     1              No         El   \n",
       "3           Female                    0     2              No         El   \n",
       "4             Male                    0     1              No      Ocean   \n",
       "\n",
       "      beat_num  \n",
       "0    Beach 122  \n",
       "1    Beach 121  \n",
       "2  Cerrito 822  \n",
       "3  Cerrito 822  \n",
       "4    Beach 614  \n",
       "\n",
       "[5 rows x 26 columns]"
      ]
     },
     "execution_count": 22,
     "metadata": {},
     "output_type": "execute_result"
    }
   ],
   "source": [
    "df_police_stops.head()"
   ]
  },
  {
   "cell_type": "code",
   "execution_count": 21,
   "metadata": {},
   "outputs": [
    {
     "name": "stdout",
     "output_type": "stream",
     "text": [
      "ori\n",
      "exp_years\n",
      "date_stop\n",
      "time_stop\n",
      "stopduration\n",
      "stop_in_response_to_cfs\n",
      "officer_assignment_key\n",
      "assignment\n",
      "intersection\n",
      "address_block\n",
      "land_mark\n",
      "address_street\n",
      "highway_exit\n",
      "isschool\n",
      "school_name\n",
      "address_city\n",
      "beat\n",
      "pid\n",
      "perceived_limited_english\n",
      "perceived_age\n",
      "perceived_gender\n",
      "gender_nonconforming\n",
      "gend\n",
      "perceived_lgbt\n",
      "beat_name\n",
      "beat_num\n"
     ]
    }
   ],
   "source": [
    "for col in df_police_stops.columns:\n",
    "    \n",
    "    print(col)"
   ]
  },
  {
   "cell_type": "markdown",
   "metadata": {},
   "source": [
    "# Ethics & Privacy"
   ]
  },
  {
   "cell_type": "markdown",
   "metadata": {},
   "source": [
    "# Conclusion & Discussion"
   ]
  },
  {
   "cell_type": "markdown",
   "metadata": {},
   "source": [
    "## Geospatial tools\n",
    "- Geojson: https://pypi.org/project/geojson/\n",
    "    - https://www.datacamp.com/community/tutorials/geospatial-data-python\n",
    "- GeoPandas: http://geopandas.org/"
   ]
  },
  {
   "cell_type": "markdown",
   "metadata": {},
   "source": [
    "visualization tools: https://medium.com/@stallonejacob/d3-in-juypter-notebook-685d6dca75c8"
   ]
  }
 ],
 "metadata": {
  "kernelspec": {
   "display_name": "Python 3",
   "language": "python",
   "name": "python3"
  },
  "language_info": {
   "codemirror_mode": {
    "name": "ipython",
    "version": 3
   },
   "file_extension": ".py",
   "mimetype": "text/x-python",
   "name": "python",
   "nbconvert_exporter": "python",
   "pygments_lexer": "ipython3",
   "version": "3.7.1"
  },
  "pycharm": {
   "stem_cell": {
    "cell_type": "raw",
    "source": [],
    "metadata": {
     "collapsed": false
    }
   }
  }
 },
 "nbformat": 4,
 "nbformat_minor": 2
}