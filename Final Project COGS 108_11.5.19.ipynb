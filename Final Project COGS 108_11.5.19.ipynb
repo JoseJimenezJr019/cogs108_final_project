{
 "cells": [
  {
   "cell_type": "markdown",
   "metadata": {},
   "source": [
    "# Road Safety in San Diego County"
   ]
  },
  {
   "cell_type": "code",
   "execution_count": 1,
   "metadata": {},
   "outputs": [
    {
     "name": "stdout",
     "output_type": "stream",
     "text": [
      "Requirement already satisfied: geojson in /Applications/anaconda3/lib/python3.7/site-packages (2.5.0)\r\n"
     ]
    }
   ],
   "source": [
    "!pip install geojson"
   ]
  },
  {
   "cell_type": "code",
   "execution_count": 2,
   "metadata": {},
   "outputs": [],
   "source": [
    "#imports \n",
    "\n",
    "# Import libraries\n",
    "import numpy as np\n",
    "import pandas as pd\n",
    "import matplotlib.pyplot as plt\n",
    "import seaborn as sns\n",
    "\n",
    "import string\n",
    "\n",
    "# Display plots directly in the notebook instead of in a new window\n",
    "%matplotlib inline"
   ]
  },
  {
   "cell_type": "code",
   "execution_count": 3,
   "metadata": {},
   "outputs": [],
   "source": [
    "# Configure libraries\n",
    "# The seaborn library makes plots look nicer\n",
    "sns.set()\n",
    "sns.set_context('talk')\n",
    "\n",
    "# Round decimals when displaying DataFrames\n",
    "pd.set_option('precision', 2)"
   ]
  },
  {
   "cell_type": "markdown",
   "metadata": {},
   "source": [
    "## Data frame management\n",
    "\n",
    "We should figure out how we want to structure the data frames. \n",
    "Options include: \n",
    "- Merge into one df\n",
    "- Find matching identifiers and try to merge data by these\n",
    "- Work in completely independent dfs"
   ]
  },
  {
   "cell_type": "code",
   "execution_count": 18,
   "metadata": {},
   "outputs": [
    {
     "name": "stderr",
     "output_type": "stream",
     "text": [
      "/Applications/anaconda3/lib/python3.7/site-packages/IPython/core/interactiveshell.py:3020: DtypeWarning: Columns (12) have mixed types. Specify dtype option on import or set low_memory=False.\n",
      "  interactivity=interactivity, compiler=compiler, result=result)\n",
      "/Applications/anaconda3/lib/python3.7/site-packages/IPython/core/interactiveshell.py:3020: DtypeWarning: Columns (7,9,12,13) have mixed types. Specify dtype option on import or set low_memory=False.\n",
      "  interactivity=interactivity, compiler=compiler, result=result)\n"
     ]
    }
   ],
   "source": [
    "df_police_stops = pd.read_csv(\"datasets/police_stops/ripa_stops_datasd_v1.csv\")\n",
    "df_collisions = pd.read_csv(\"datasets/traffic_collisions/pd_collisions_datasd_v1.csv\")\n",
    "df_police_calls1 = pd.read_csv(\"datasets/police_calls/pd_calls_for_service_2015_datasd_v1.csv\")\n",
    "df_police_calls2 = pd.read_csv(\"datasets/police_calls/pd_calls_for_service_2016_datasd_v1.csv\")\n",
    "df_police_calls3 = pd.read_csv(\"datasets/police_calls/pd_calls_for_service_2017_datasd_v1.csv\")\n",
    "df_police_calls4 = pd.read_csv(\"datasets/police_calls/pd_calls_for_service_2018_datasd.csv\")\n",
    "df_police_calls5 = pd.read_csv(\"datasets/police_calls/pd_calls_for_service_2019_datasd.csv\")"
   ]
  },
  {
   "cell_type": "code",
   "execution_count": 20,
   "metadata": {},
   "outputs": [
    {
     "ename": "TypeError",
     "evalue": "merge() got multiple values for argument 'on'",
     "output_type": "error",
     "traceback": [
      "\u001b[0;31m---------------------------------------------------------------------------\u001b[0m",
      "\u001b[0;31mTypeError\u001b[0m                                 Traceback (most recent call last)",
      "\u001b[0;32m<ipython-input-20-2e9faf3bef55>\u001b[0m in \u001b[0;36m<module>\u001b[0;34m\u001b[0m\n\u001b[1;32m      1\u001b[0m \u001b[0;31m# Merging all of the df_police_calls databases\u001b[0m\u001b[0;34m\u001b[0m\u001b[0;34m\u001b[0m\u001b[0;34m\u001b[0m\u001b[0m\n\u001b[0;32m----> 2\u001b[0;31m \u001b[0mdf_police_calls\u001b[0m \u001b[0;34m=\u001b[0m \u001b[0mpd\u001b[0m\u001b[0;34m.\u001b[0m\u001b[0mmerge\u001b[0m\u001b[0;34m(\u001b[0m\u001b[0mdf_police_calls1\u001b[0m\u001b[0;34m,\u001b[0m\u001b[0mdf_police_calls2\u001b[0m\u001b[0;34m,\u001b[0m\u001b[0mdf_police_calls3\u001b[0m\u001b[0;34m,\u001b[0m \u001b[0mdf_police_calls4\u001b[0m\u001b[0;34m,\u001b[0m \u001b[0mdf_police_calls5\u001b[0m\u001b[0;34m,\u001b[0m\u001b[0mon\u001b[0m\u001b[0;34m=\u001b[0m\u001b[0;34m'stop_id'\u001b[0m\u001b[0;34m)\u001b[0m\u001b[0;34m\u001b[0m\u001b[0;34m\u001b[0m\u001b[0m\n\u001b[0m",
      "\u001b[0;31mTypeError\u001b[0m: merge() got multiple values for argument 'on'"
     ]
    }
   ],
   "source": [
    "# Merging all of the df_police_calls databases\n",
    "df_police_calls = pd.merge(df_police_calls1,df_police_calls2,df_police_calls3, df_police_calls4, df_police_calls5,on='stop_id')"
   ]
  },
  {
   "cell_type": "code",
   "execution_count": 16,
   "metadata": {},
   "outputs": [
    {
     "name": "stdout",
     "output_type": "stream",
     "text": [
      "                  0                    1   2      3    4                 5   \\\n",
      "0       P15010000001  2015-01-01 00:00:14   3   3800  NaN             DELTA   \n",
      "1       P15010000002  2015-01-01 00:00:30   3      0  NaN              60TH   \n",
      "2       P15010000003  2015-01-01 00:00:48   3   3600  NaN             LOGAN   \n",
      "3       P15010000004  2015-01-01 00:00:57   3      0  NaN              33RD   \n",
      "4       P15010000005  2015-01-01 00:01:05   3   3300  NaN              43RD   \n",
      "5       P15010000006  2015-01-01 00:01:27   3   1400  NaN         HORNBLEND   \n",
      "6       P15010000007  2015-01-01 00:01:35   3    700  NaN              05TH   \n",
      "7       P15010000008  2015-01-01 00:01:37   3    700  NaN         OLIVEWOOD   \n",
      "8       P15010000009  2015-01-01 00:01:39   3   2600  NaN           BAYSIDE   \n",
      "9       P15010000010  2015-01-01 00:02:13   3   4000  NaN            EUCLID   \n",
      "10      P15010000011  2015-01-01 00:02:18   3   2600  NaN         ROSECRANS   \n",
      "11      P15010000012  2015-01-01 00:02:41   3   3200  NaN           PALM SB   \n",
      "12      P15010000013  2015-01-01 00:02:52   3    200  NaN              68TH   \n",
      "13      P15010000014  2015-01-01 00:02:53   3   3700  NaN              37TH   \n",
      "14      P15010000015  2015-01-01 00:02:55   3   3100  NaN          IMPERIAL   \n",
      "15      P15010000016  2015-01-01 00:03:01   3      0  NaN  SHOPS INFO LOG**   \n",
      "16      P15010000017  2015-01-01 00:03:14   3      0  NaN    CHP INFO LOG**   \n",
      "17      P15010000018  2015-01-01 00:03:22   3    300  NaN             BOWIE   \n",
      "18      P15010000019  2015-01-01 00:04:07   3    200  NaN        LOS SONETO   \n",
      "19      P15010000020  2015-01-01 00:04:11   3   7200  NaN           SKYLINE   \n",
      "20      P15010000021  2015-01-01 00:04:16   3    700  NaN              05TH   \n",
      "21      P15010000023  2015-01-01 00:04:27   3   5300  NaN         GROVELAND   \n",
      "22      P15010000022  2015-01-01 00:04:27   3   3700  NaN            HERMAN   \n",
      "23      P15010000024  2015-01-01 00:04:35   3   1900  NaN             WODEN   \n",
      "24      P15010000025  2015-01-01 00:05:15   3   7900  NaN   PARADISE VALLEY   \n",
      "25      P15010000026  2015-01-01 00:05:23   3   3800  NaN             LOGAN   \n",
      "26      P15010000027  2015-01-01 00:05:36   3   3400  NaN              06TH   \n",
      "27      P15010000028  2015-01-01 00:05:45   3      0  NaN              33RD   \n",
      "28      P15010000029  2015-01-01 00:05:48   3   1000  NaN           WINSTON   \n",
      "29      P15010000030  2015-01-01 00:06:17   3   2900  NaN          NATIONAL   \n",
      "...              ...                  ...  ..    ...  ...               ...   \n",
      "627442  P15120048840  2015-12-31 23:47:06   3    700  NaN             GRAND   \n",
      "627443  P15120048841  2015-12-31 23:47:14   3   3500  NaN      SPORTS ARENA   \n",
      "627444  P15120048842  2015-12-31 23:47:19   3   2400  NaN              POLK   \n",
      "627445  P15120048843  2015-12-31 23:47:51   3      0  NaN            EVERTS   \n",
      "627446  P15120048844  2015-12-31 23:48:27   3   4100  NaN              BETA   \n",
      "627447  P15120048845  2015-12-31 23:48:58   3  11600  NaN    EL CAMINO REAL   \n",
      "627448  P15120048846  2015-12-31 23:49:18   3      0  NaN            MARKET   \n",
      "627449  P15120048847  2015-12-31 23:50:12   3      0  NaN              CASS   \n",
      "627450  P15120048848  2015-12-31 23:50:44   3   2000  NaN         SPINDRIFT   \n",
      "627451  P15120048849  2015-12-31 23:50:50   3   5300  NaN             MEADE   \n",
      "627452  P15120048850  2015-12-31 23:51:11   3   4400  NaN           MISSION   \n",
      "627453  P15120048851  2015-12-31 23:51:57   3   3400  NaN              32ND   \n",
      "627454  P15120048852  2015-12-31 23:53:12   3   3800  NaN              39TH   \n",
      "627455  P15120048853  2015-12-31 23:53:28   3    900  NaN          PROSPECT   \n",
      "627456  P15120048854  2015-12-31 23:53:28   3      0  NaN   CLAIREMONT MESA   \n",
      "627457  P15120048855  2015-12-31 23:53:36   3   1300  NaN          BROADWAY   \n",
      "627458  P15120048856  2015-12-31 23:53:52   3   1000  NaN            GARNET   \n",
      "627459  P15120048857  2015-12-31 23:54:00   3    500  NaN              04TH   \n",
      "627460  P15120048858  2015-12-31 23:54:59   3   5700  NaN        CUMBERLAND   \n",
      "627461  P15120048859  2015-12-31 23:55:21   3   4300  NaN             OCEAN   \n",
      "627462  P15120048860  2015-12-31 23:55:45   3   3800  NaN             LOGAN   \n",
      "627463  P15120048861  2015-12-31 23:56:47   3   2900  NaN              CLAY   \n",
      "627464  P15120048862  2015-12-31 23:56:53   3    500  NaN                 F   \n",
      "627465  P15120048863  2015-12-31 23:57:08   3   4400  NaN             IDAHO   \n",
      "627466  P15120048864  2015-12-31 23:57:52   3   1600    S              43RD   \n",
      "627467  P15120048865  2015-12-31 23:58:26   3   4200  NaN             MEADE   \n",
      "627468  P15120048866  2015-12-31 23:58:39   3   1100  NaN            GARNET   \n",
      "627469  P15120048867  2015-12-31 23:58:40   3   6700  NaN            TIFFIN   \n",
      "627470  P15120048868  2015-12-31 23:59:10   3    300  NaN         OLIVEWOOD   \n",
      "627471  P15120048869  2015-12-31 23:59:25   3   5100  NaN   MEADOWS DEL MAR   \n",
      "\n",
      "         6   7         8    9  ...    60              61   62  63        64  \\\n",
      "0        ST NaN       NaN  NaN ...   NaN        NATIONAL  AVE NaN       NaN   \n",
      "1        ST NaN   FEDERAL   BL ...   NaN      REFLECTION   DR NaN       NaN   \n",
      "2        AV NaN       NaN  NaN ...   NaN            06TH  AVE NaN    ISLAND   \n",
      "3        ST NaN  IMPERIAL   AV ...   NaN           VESTA   ST NaN      MAIN   \n",
      "4        ST NaN       NaN  NaN ...   NaN            04TH  AVE NaN    ISLAND   \n",
      "5        ST NaN       NaN  NaN ...   NaN          EVERTS   ST NaN    GARNET   \n",
      "6        AV NaN       NaN  NaN ...   NaN          NEWTON  AVE NaN       NaN   \n",
      "7        TR NaN       NaN  NaN ...   NaN      UNIVERSITY  AVE NaN    WABASH   \n",
      "8        WK NaN       NaN  NaN ...   NaN            06TH  AVE NaN       NaN   \n",
      "9        AV NaN       NaN  NaN ...   NaN           OCEAN  BLV NaN       NaN   \n",
      "10       ST NaN       NaN  NaN ...   NaN        BROOKLYN  AVE NaN       NaN   \n",
      "11       AV NaN       NaN  NaN ...   NaN        EL CAJON  BLV NaN       NaN   \n",
      "12       ST NaN       NaN  NaN ...   NaN   SCRIPPS RANCH  BLV NaN       NaN   \n",
      "13       ST NaN       NaN  NaN ...   NaN         KLAUBER  AVE NaN       NaN   \n",
      "14       AV NaN       NaN  NaN ...   NaN       30TH (SB)   ST NaN       NaN   \n",
      "15      NaN NaN       NaN  NaN ...   NaN               L   ST NaN       NaN   \n",
      "16      NaN NaN       NaN  NaN ...   NaN       SWEETWOOD   ST NaN       NaN   \n",
      "17       ST NaN       NaN  NaN ...   NaN          GARNET  AVE NaN       NaN   \n",
      "18       DR NaN       NaN  NaN ...   NaN            05TH  AVE NaN       NaN   \n",
      "19       DR NaN       NaN  NaN ...   NaN           REBEL   RD NaN       NaN   \n",
      "20       AV NaN       NaN  NaN ...   NaN           GAMMA   ST NaN       NaN   \n",
      "21       DR NaN       NaN  NaN ...   NaN       SHOPS LOG  NaN NaN       NaN   \n",
      "22       AV NaN       NaN  NaN ...   NaN      WILLAMETTE  AVE NaN       NaN   \n",
      "23       ST NaN       NaN  NaN ...   NaN      STREAMVIEW   DR NaN       NaN   \n",
      "24       RD NaN       NaN  NaN ...   NaN  ADIRONDACK ROW  NaN NaN  RITVA PL   \n",
      "25       AV NaN       NaN  NaN ...   NaN        FRANKLIN  AVE NaN       NaN   \n",
      "26       AV NaN       NaN  NaN ...     S            37TH   ST NaN      BETA   \n",
      "27       ST NaN    MARKET   ST ...   NaN        TREEWOOD   ST NaN       NaN   \n",
      "28       DR NaN       NaN  NaN ...   NaN  BLACK MOUNTAIN   RD NaN       NaN   \n",
      "29       AV NaN       NaN  NaN ...   NaN         CHP LOG  NaN NaN       NaN   \n",
      "...     ...  ..       ...  ... ...   ...             ...  ...  ..       ...   \n",
      "627442   AV NaN       NaN  NaN ...   NaN             NaN  NaN NaN       NaN   \n",
      "627443   BL NaN       NaN  NaN ...   NaN             NaN  NaN NaN       NaN   \n",
      "627444   AV NaN       NaN  NaN ...   NaN             NaN  NaN NaN       NaN   \n",
      "627445   ST NaN    GARNET   AV ...   NaN             NaN  NaN NaN       NaN   \n",
      "627446   ST NaN       NaN  NaN ...   NaN             NaN  NaN NaN       NaN   \n",
      "627447  NaN NaN       NaN  NaN ...   NaN             NaN  NaN NaN       NaN   \n",
      "627448   PL NaN       NaN  NaN ...   NaN             NaN  NaN NaN       NaN   \n",
      "627449   ST NaN    GARNET   AV ...   NaN             NaN  NaN NaN       NaN   \n",
      "627450   DR NaN       NaN  NaN ...   NaN             NaN  NaN NaN       NaN   \n",
      "627451   AV NaN       NaN  NaN ...   NaN             NaN  NaN NaN       NaN   \n",
      "627452   BL NaN       NaN  NaN ...   NaN             NaN  NaN NaN       NaN   \n",
      "627453   ST NaN       NaN  NaN ...   NaN             NaN  NaN NaN       NaN   \n",
      "627454   ST NaN       NaN  NaN ...   NaN             NaN  NaN NaN       NaN   \n",
      "627455   ST NaN       NaN  NaN ...   NaN             NaN  NaN NaN       NaN   \n",
      "627456   BL NaN   GENESEE   AV ...   NaN             NaN  NaN NaN       NaN   \n",
      "627457  NaN NaN       NaN  NaN ...   NaN             NaN  NaN NaN       NaN   \n",
      "627458   AV NaN       NaN  NaN ...   NaN             NaN  NaN NaN       NaN   \n",
      "627459   AV NaN       NaN  NaN ...   NaN             NaN  NaN NaN       NaN   \n",
      "627460   ST NaN       NaN  NaN ...   NaN             NaN  NaN NaN       NaN   \n",
      "627461   BL NaN       NaN  NaN ...   NaN             NaN  NaN NaN       NaN   \n",
      "627462   AV NaN       NaN  NaN ...   NaN             NaN  NaN NaN       NaN   \n",
      "627463   AV NaN       NaN  NaN ...   NaN             NaN  NaN NaN       NaN   \n",
      "627464   ST NaN       NaN  NaN ...   NaN             NaN  NaN NaN       NaN   \n",
      "627465   ST NaN       NaN  NaN ...   NaN             NaN  NaN NaN       NaN   \n",
      "627466   ST NaN       NaN  NaN ...   NaN             NaN  NaN NaN       NaN   \n",
      "627467   AV NaN       NaN  NaN ...   NaN             NaN  NaN NaN       NaN   \n",
      "627468   AV NaN       NaN  NaN ...   NaN             NaN  NaN NaN       NaN   \n",
      "627469   AV NaN       NaN  NaN ...   NaN             NaN  NaN NaN       NaN   \n",
      "627470   TR NaN       NaN  NaN ...   NaN             NaN  NaN NaN       NaN   \n",
      "627471   DY NaN       NaN  NaN ...   NaN             NaN  NaN NaN       NaN   \n",
      "\n",
      "        65        66   67     68   69  \n",
      "0      NaN       AU1  DUP  441.0  1.0  \n",
      "1      NaN       415    K  321.0  2.0  \n",
      "2      NaN        FD    K  523.0  2.0  \n",
      "3      NaN       AU1    W  511.0  1.0  \n",
      "4      NaN       586  CAN  523.0  4.0  \n",
      "5      NaN      1016    A  122.0  2.0  \n",
      "6      NaN       AU1  DUP  442.0  1.0  \n",
      "7      NaN       CCW    K  838.0  1.0  \n",
      "8      NaN    SELENF    K  523.0  3.0  \n",
      "9      NaN      1016    A  122.0  2.0  \n",
      "10     NaN       AU1  DUP  433.0  1.0  \n",
      "11     NaN       415    K  831.0  2.0  \n",
      "12     NaN      415N  CAN  241.0  3.0  \n",
      "13     NaN       AU1  DUP  433.0  1.0  \n",
      "14     NaN       AU1  CAN  723.0  1.0  \n",
      "15     NaN       AU1    W  516.0  1.0  \n",
      "16     NaN      11-7    K  452.0  1.0  \n",
      "17     NaN      1016    A  122.0  2.0  \n",
      "18     NaN      1016  CAN  523.0  2.0  \n",
      "19     NaN      11-7    K  114.0  1.0  \n",
      "20     NaN       AU1  DUP  442.0  1.0  \n",
      "21     NaN     SHOPS    W   -1.0  4.0  \n",
      "22     NaN       AU1    W  114.0  1.0  \n",
      "23     NaN  FIREHZRD    K  451.0  2.0  \n",
      "24     NaN       AU1  DUP  437.0  1.0  \n",
      "25     NaN       AU2  DUP  441.0  2.0  \n",
      "26     NaN       AU1  DUP  442.0  1.0  \n",
      "27     NaN       246    O  452.0  1.0  \n",
      "28     NaN      1131    K  242.0  1.0  \n",
      "29     NaN   INFOCHP    W   -1.0  4.0  \n",
      "...     ..       ...  ...    ...  ...  \n",
      "627442 NaN       NaN  NaN    NaN  NaN  \n",
      "627443 NaN       NaN  NaN    NaN  NaN  \n",
      "627444 NaN       NaN  NaN    NaN  NaN  \n",
      "627445 NaN       NaN  NaN    NaN  NaN  \n",
      "627446 NaN       NaN  NaN    NaN  NaN  \n",
      "627447 NaN       NaN  NaN    NaN  NaN  \n",
      "627448 NaN       NaN  NaN    NaN  NaN  \n",
      "627449 NaN       NaN  NaN    NaN  NaN  \n",
      "627450 NaN       NaN  NaN    NaN  NaN  \n",
      "627451 NaN       NaN  NaN    NaN  NaN  \n",
      "627452 NaN       NaN  NaN    NaN  NaN  \n",
      "627453 NaN       NaN  NaN    NaN  NaN  \n",
      "627454 NaN       NaN  NaN    NaN  NaN  \n",
      "627455 NaN       NaN  NaN    NaN  NaN  \n",
      "627456 NaN       NaN  NaN    NaN  NaN  \n",
      "627457 NaN       NaN  NaN    NaN  NaN  \n",
      "627458 NaN       NaN  NaN    NaN  NaN  \n",
      "627459 NaN       NaN  NaN    NaN  NaN  \n",
      "627460 NaN       NaN  NaN    NaN  NaN  \n",
      "627461 NaN       NaN  NaN    NaN  NaN  \n",
      "627462 NaN       NaN  NaN    NaN  NaN  \n",
      "627463 NaN       NaN  NaN    NaN  NaN  \n",
      "627464 NaN       NaN  NaN    NaN  NaN  \n",
      "627465 NaN       NaN  NaN    NaN  NaN  \n",
      "627466 NaN       NaN  NaN    NaN  NaN  \n",
      "627467 NaN       NaN  NaN    NaN  NaN  \n",
      "627468 NaN       NaN  NaN    NaN  NaN  \n",
      "627469 NaN       NaN  NaN    NaN  NaN  \n",
      "627470 NaN       NaN  NaN    NaN  NaN  \n",
      "627471 NaN       NaN  NaN    NaN  NaN  \n",
      "\n",
      "[627472 rows x 70 columns]\n"
     ]
    }
   ],
   "source": [
    "print(df_police_calls)"
   ]
  },
  {
   "cell_type": "markdown",
   "metadata": {},
   "source": [
    "# DATA CLEANING"
   ]
  },
  {
   "cell_type": "markdown",
   "metadata": {},
   "source": [
    "## df_collisions"
   ]
  },
  {
   "cell_type": "code",
   "execution_count": 6,
   "metadata": {},
   "outputs": [],
   "source": [
    "# Splitting datetime for the datasets\n",
    "\n",
    "# Splitting datetime for df_collisions\n",
    "# Creating seperate columns for Date and Time\n",
    "date_time = df_collisions['date_time'].str.split(' ', n=1, expand=True)\n",
    "df_collisions = df_collisions.drop(['date_time'], axis=1)\n",
    "df_collisions['date'] = date_time[0]\n",
    "df_collisions['time'] = date_time[1]"
   ]
  },
  {
   "cell_type": "code",
   "execution_count": 7,
   "metadata": {},
   "outputs": [],
   "source": [
    "# droping useless columns\n",
    "drop_cols_collision = ['address_pd_primary','address_pd_intersecting', 'address_name_intersecting', 'address_sfx_intersecting','report_id']\n",
    "df_collisions = df_collisions.drop(drop_cols_collision, axis = 1)\n"
   ]
  },
  {
   "cell_type": "code",
   "execution_count": 8,
   "metadata": {},
   "outputs": [],
   "source": [
    "# Making everything lowercase\n",
    "\n",
    "df_collisions['address_road_primary'] = df_collisions['address_road_primary'].str.lower()\n",
    "df_collisions['address_sfx_primary'] = df_collisions['address_sfx_primary'].str.lower()\n",
    "df_collisions['charge_desc'] = df_collisions['charge_desc'].str.lower()\n",
    "df_collisions['hit_run_lvl'] = df_collisions['hit_run_lvl'].str.lower()"
   ]
  },
  {
   "cell_type": "code",
   "execution_count": 9,
   "metadata": {},
   "outputs": [],
   "source": [
    "#stripping gets rid of extraneous spaces to allow for easier processing of data\n",
    "df_collisions['address_road_primary'] = df_collisions.address_road_primary.str.strip()\n",
    "df_collisions['address_sfx_primary'] = df_collisions.address_sfx_primary.str.strip()\n",
    "df_collisions['violation_section']= df_collisions.violation_section.str.strip()\n",
    "df_collisions['violation_type'] = df_collisions.violation_type.str.strip()\n",
    "df_collisions['charge_desc'] = df_collisions.charge_desc.str.strip()\n",
    "df_collisions['hit_run_lvl'] = df_collisions.hit_run_lvl.str.strip()"
   ]
  },
  {
   "cell_type": "code",
   "execution_count": 10,
   "metadata": {},
   "outputs": [],
   "source": [
    "# convert the 'Date' column to datetime format \n",
    "df_collisions['date']= pd.to_datetime(df_collisions['date']) \n",
    "df_collisions['time']= pd.to_datetime(df_collisions['time']) "
   ]
  },
  {
   "cell_type": "code",
   "execution_count": 11,
   "metadata": {},
   "outputs": [
    {
     "data": {
      "text/plain": [
       "police_beat                        int64\n",
       "address_number_primary             int64\n",
       "address_road_primary              object\n",
       "address_sfx_primary               object\n",
       "violation_section                 object\n",
       "violation_type                    object\n",
       "charge_desc                       object\n",
       "injured                            int64\n",
       "killed                             int64\n",
       "hit_run_lvl                       object\n",
       "date                      datetime64[ns]\n",
       "time                      datetime64[ns]\n",
       "dtype: object"
      ]
     },
     "execution_count": 11,
     "metadata": {},
     "output_type": "execute_result"
    }
   ],
   "source": [
    "df_collisions.dtypes"
   ]
  },
  {
   "cell_type": "markdown",
   "metadata": {},
   "source": [
    "## df_police calls"
   ]
  },
  {
   "cell_type": "code",
   "execution_count": 12,
   "metadata": {},
   "outputs": [],
   "source": [
    "# Change entries in col 'day_of_week' to represent the day of the week in words\n",
    "df_police_calls['day_of_week'] = df_police_calls['day_of_week'].replace(1,'Monday')\n",
    "df_police_calls['day_of_week'] = df_police_calls['day_of_week'].replace(2,'Tuesday')\n",
    "df_police_calls['day_of_week'] = df_police_calls['day_of_week'].replace(3,'Wednesday')\n",
    "df_police_calls['day_of_week'] = df_police_calls['day_of_week'].replace(4,'Thursday')\n",
    "df_police_calls['day_of_week'] = df_police_calls['day_of_week'].replace(5,'Friday')\n",
    "df_police_calls['day_of_week'] = df_police_calls['day_of_week'].replace(6,'Saturday')\n",
    "df_police_calls['day_of_week'] = df_police_calls['day_of_week'].replace(7,'Sunday')"
   ]
  },
  {
   "cell_type": "code",
   "execution_count": 13,
   "metadata": {},
   "outputs": [
    {
     "ename": "AttributeError",
     "evalue": "'DataFrame' object has no attribute 'str'",
     "output_type": "error",
     "traceback": [
      "\u001b[0;31m---------------------------------------------------------------------------\u001b[0m",
      "\u001b[0;31mAttributeError\u001b[0m                            Traceback (most recent call last)",
      "\u001b[0;32m<ipython-input-13-cb26be38a224>\u001b[0m in \u001b[0;36m<module>\u001b[0;34m\u001b[0m\n\u001b[1;32m      1\u001b[0m \u001b[0;31m# Splitting datetime for df_police_calls\u001b[0m\u001b[0;34m\u001b[0m\u001b[0;34m\u001b[0m\u001b[0;34m\u001b[0m\u001b[0m\n\u001b[0;32m----> 2\u001b[0;31m \u001b[0mdate_time\u001b[0m \u001b[0;34m=\u001b[0m \u001b[0mdf_police_calls\u001b[0m\u001b[0;34m[\u001b[0m\u001b[0;34m'date_time'\u001b[0m\u001b[0;34m]\u001b[0m\u001b[0;34m.\u001b[0m\u001b[0mstr\u001b[0m\u001b[0;34m.\u001b[0m\u001b[0msplit\u001b[0m\u001b[0;34m(\u001b[0m\u001b[0;34m' '\u001b[0m\u001b[0;34m,\u001b[0m \u001b[0mn\u001b[0m\u001b[0;34m=\u001b[0m\u001b[0;36m1\u001b[0m\u001b[0;34m,\u001b[0m \u001b[0mexpand\u001b[0m\u001b[0;34m=\u001b[0m\u001b[0;32mTrue\u001b[0m\u001b[0;34m)\u001b[0m\u001b[0;34m\u001b[0m\u001b[0;34m\u001b[0m\u001b[0m\n\u001b[0m\u001b[1;32m      3\u001b[0m \u001b[0mdf_police_calls\u001b[0m \u001b[0;34m=\u001b[0m \u001b[0mdf_police_calls\u001b[0m\u001b[0;34m.\u001b[0m\u001b[0mdrop\u001b[0m\u001b[0;34m(\u001b[0m\u001b[0;34m[\u001b[0m\u001b[0;34m'date_time'\u001b[0m\u001b[0;34m]\u001b[0m\u001b[0;34m,\u001b[0m \u001b[0maxis\u001b[0m\u001b[0;34m=\u001b[0m\u001b[0;36m1\u001b[0m\u001b[0;34m)\u001b[0m\u001b[0;34m\u001b[0m\u001b[0;34m\u001b[0m\u001b[0m\n\u001b[1;32m      4\u001b[0m \u001b[0mdf_police_calls\u001b[0m\u001b[0;34m[\u001b[0m\u001b[0;34m'date'\u001b[0m\u001b[0;34m]\u001b[0m \u001b[0;34m=\u001b[0m \u001b[0mdate_time\u001b[0m\u001b[0;34m[\u001b[0m\u001b[0;36m0\u001b[0m\u001b[0;34m]\u001b[0m\u001b[0;34m\u001b[0m\u001b[0;34m\u001b[0m\u001b[0m\n\u001b[1;32m      5\u001b[0m \u001b[0mdf_police_calls\u001b[0m\u001b[0;34m[\u001b[0m\u001b[0;34m'time'\u001b[0m\u001b[0;34m]\u001b[0m \u001b[0;34m=\u001b[0m \u001b[0mdate_time\u001b[0m\u001b[0;34m[\u001b[0m\u001b[0;36m1\u001b[0m\u001b[0;34m]\u001b[0m\u001b[0;34m\u001b[0m\u001b[0;34m\u001b[0m\u001b[0m\n",
      "\u001b[0;32m/Applications/anaconda3/lib/python3.7/site-packages/pandas/core/generic.py\u001b[0m in \u001b[0;36m__getattr__\u001b[0;34m(self, name)\u001b[0m\n\u001b[1;32m   4374\u001b[0m             \u001b[0;32mif\u001b[0m \u001b[0mself\u001b[0m\u001b[0;34m.\u001b[0m\u001b[0m_info_axis\u001b[0m\u001b[0;34m.\u001b[0m\u001b[0m_can_hold_identifiers_and_holds_name\u001b[0m\u001b[0;34m(\u001b[0m\u001b[0mname\u001b[0m\u001b[0;34m)\u001b[0m\u001b[0;34m:\u001b[0m\u001b[0;34m\u001b[0m\u001b[0;34m\u001b[0m\u001b[0m\n\u001b[1;32m   4375\u001b[0m                 \u001b[0;32mreturn\u001b[0m \u001b[0mself\u001b[0m\u001b[0;34m[\u001b[0m\u001b[0mname\u001b[0m\u001b[0;34m]\u001b[0m\u001b[0;34m\u001b[0m\u001b[0;34m\u001b[0m\u001b[0m\n\u001b[0;32m-> 4376\u001b[0;31m             \u001b[0;32mreturn\u001b[0m \u001b[0mobject\u001b[0m\u001b[0;34m.\u001b[0m\u001b[0m__getattribute__\u001b[0m\u001b[0;34m(\u001b[0m\u001b[0mself\u001b[0m\u001b[0;34m,\u001b[0m \u001b[0mname\u001b[0m\u001b[0;34m)\u001b[0m\u001b[0;34m\u001b[0m\u001b[0;34m\u001b[0m\u001b[0m\n\u001b[0m\u001b[1;32m   4377\u001b[0m \u001b[0;34m\u001b[0m\u001b[0m\n\u001b[1;32m   4378\u001b[0m     \u001b[0;32mdef\u001b[0m \u001b[0m__setattr__\u001b[0m\u001b[0;34m(\u001b[0m\u001b[0mself\u001b[0m\u001b[0;34m,\u001b[0m \u001b[0mname\u001b[0m\u001b[0;34m,\u001b[0m \u001b[0mvalue\u001b[0m\u001b[0;34m)\u001b[0m\u001b[0;34m:\u001b[0m\u001b[0;34m\u001b[0m\u001b[0;34m\u001b[0m\u001b[0m\n",
      "\u001b[0;31mAttributeError\u001b[0m: 'DataFrame' object has no attribute 'str'"
     ]
    }
   ],
   "source": [
    "# Splitting datetime for df_police_calls\n",
    "date_time = df_police_calls['date_time'].str.split(' ', n=1, expand=True)\n",
    "df_police_calls = df_police_calls.drop(['date_time'], axis=1)\n",
    "df_police_calls['date'] = date_time[0]\n",
    "df_police_calls['time'] = date_time[1]"
   ]
  },
  {
   "cell_type": "code",
   "execution_count": null,
   "metadata": {},
   "outputs": [],
   "source": [
    "# dropping useless columns\n",
    "drop_cols_calls = ['address_dir_primary', 'address_dir_intersecting','incident_num']\n",
    "\n",
    "df_police_calls = df_police_calls.drop(drop_cols_calls,axis = 1)"
   ]
  },
  {
   "cell_type": "code",
   "execution_count": null,
   "metadata": {},
   "outputs": [],
   "source": [
    "# making everything lowercase\n",
    "df_police_calls['address_road_primary']=df_police_calls['address_road_primary'].str.lower()\n",
    "df_police_calls['address_road_intersecting']=df_police_calls['address_road_intersecting'].str.lower()\n",
    "df_police_calls['address_sfx_primary'] = df_police_calls['address_sfx_primary'].str.lower()\n"
   ]
  },
  {
   "cell_type": "code",
   "execution_count": null,
   "metadata": {},
   "outputs": [],
   "source": [
    "# strip any extra spaces in string data\n",
    "df_police_calls['address_road_primary']= df_police_calls.address_road_primary.str.strip()\n",
    "df_police_calls['address_sfx_primary'] = df_police_calls.address_sfx_primary.str.strip()\n",
    "df_police_calls['address_road_intersecting']= df_police_calls.address_road_intersecting.str.strip()\n",
    "df_police_calls['call_type'] = df_police_calls.call_type.str.strip()\n",
    "df_police_calls['disposition'] = df_police_calls.disposition.str.strip()\n"
   ]
  },
  {
   "cell_type": "code",
   "execution_count": null,
   "metadata": {},
   "outputs": [],
   "source": [
    "# convert the 'Date' column to datetime format \n",
    "\n",
    "df_police_calls['date']= pd.to_datetime(df_police_calls['date']) \n",
    "df_police_calls['time']= pd.to_datetime(df_police_calls['time']) "
   ]
  },
  {
   "cell_type": "code",
   "execution_count": null,
   "metadata": {},
   "outputs": [],
   "source": [
    "df_police_calls.dtypes"
   ]
  },
  {
   "cell_type": "markdown",
   "metadata": {},
   "source": [
    "## df_police_stops"
   ]
  },
  {
   "cell_type": "code",
   "execution_count": null,
   "metadata": {},
   "outputs": [],
   "source": [
    "drop_cols_stops = ['isstudent', 'gend_nc','agency','stop_id']\n",
    "df_police_stops = df_police_stops.drop(drop_cols_stops, axis = 1)"
   ]
  },
  {
   "cell_type": "code",
   "execution_count": null,
   "metadata": {},
   "outputs": [],
   "source": [
    "# making everything lowercase\n",
    "\n",
    "df_police_stops['address_city'] = df_police_stops['address_city'].str.lower()\n"
   ]
  },
  {
   "cell_type": "markdown",
   "metadata": {},
   "source": [
    "We can probably merge **address_road_primary** and **address_sfx_primary**"
   ]
  },
  {
   "cell_type": "code",
   "execution_count": null,
   "metadata": {
    "scrolled": true
   },
   "outputs": [],
   "source": [
    "df_police_stops.dtypes"
   ]
  },
  {
   "cell_type": "code",
   "execution_count": null,
   "metadata": {},
   "outputs": [],
   "source": [
    "df_collisions.head()"
   ]
  },
  {
   "cell_type": "markdown",
   "metadata": {},
   "source": [
    "visualization tools: https://medium.com/@stallonejacob/d3-in-juypter-notebook-685d6dca75c8"
   ]
  },
  {
   "cell_type": "markdown",
   "metadata": {},
   "source": [
    "## Geospatial tools\n",
    "- Geojson: https://pypi.org/project/geojson/\n",
    "    - https://www.datacamp.com/community/tutorials/geospatial-data-python\n",
    "- GeoPandas: http://geopandas.org/"
   ]
  }
 ],
 "metadata": {
  "kernelspec": {
   "display_name": "Python 3",
   "language": "python",
   "name": "python3"
  },
  "language_info": {
   "codemirror_mode": {
    "name": "ipython",
    "version": 3
   },
   "file_extension": ".py",
   "mimetype": "text/x-python",
   "name": "python",
   "nbconvert_exporter": "python",
   "pygments_lexer": "ipython3",
   "version": "3.7.1"
  }
 },
 "nbformat": 4,
 "nbformat_minor": 2
}
