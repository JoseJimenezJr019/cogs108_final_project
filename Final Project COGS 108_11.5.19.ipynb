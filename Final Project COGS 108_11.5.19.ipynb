{
 "cells": [
  {
   "cell_type": "markdown",
   "metadata": {},
   "source": [
    "# Road Safety in San Diego County"
   ]
  },
  {
   "cell_type": "code",
   "execution_count": 1,
   "metadata": {},
   "outputs": [
    {
     "name": "stdout",
     "output_type": "stream",
     "text": [
      "Requirement already satisfied: geojson in /Applications/anaconda3/lib/python3.7/site-packages (2.5.0)\r\n"
     ]
    }
   ],
   "source": [
    "!pip install geojson"
   ]
  },
  {
   "cell_type": "code",
   "execution_count": 2,
   "metadata": {},
   "outputs": [],
   "source": [
    "#imports \n",
    "\n",
    "# Import libraries\n",
    "import numpy as np\n",
    "import pandas as pd\n",
    "import matplotlib.pyplot as plt\n",
    "import seaborn as sns\n",
    "\n",
    "import string\n",
    "\n",
    "# Display plots directly in the notebook instead of in a new window\n",
    "%matplotlib inline"
   ]
  },
  {
   "cell_type": "code",
   "execution_count": 3,
   "metadata": {},
   "outputs": [],
   "source": [
    "# Configure libraries\n",
    "# The seaborn library makes plots look nicer\n",
    "sns.set()\n",
    "sns.set_context('talk')\n",
    "\n",
    "# Round decimals when displaying DataFrames\n",
    "pd.set_option('precision', 2)"
   ]
  },
  {
   "cell_type": "markdown",
   "metadata": {},
   "source": [
    "## Data frame management\n",
    "\n",
    "We should figure out how we want to structure the data frames. \n",
    "Options include: \n",
    "- Merge into one df\n",
    "- Find matching identifiers and try to merge data by these\n",
    "- Work in completely independent dfs"
   ]
  },
  {
   "cell_type": "code",
   "execution_count": 10,
   "metadata": {},
   "outputs": [],
   "source": [
    "df_police_stops = pd.read_csv(\"/Users/sarahamiraslani/Desktop/cogs108_final_project/datasets/police_stops/ripa_stops_datasd_v1.csv\")\n",
    "df_collisions = pd.read_csv(\"/Users/sarahamiraslani/Desktop/cogs108_final_project/datasets/traffic_collisions/pd_collisions_datasd_v1.csv\")\n",
    "df_police_calls = pd.read_csv(\"/Users/sarahamiraslani/Desktop/cogs108_final_project/datasets/police_calls/pd_calls_for_service_2015_datasd_v1.csv\")\n",
    "df_police_calls = pd.read_csv(\"/Users/sarahamiraslani/Desktop/cogs108_final_project/datasets/police_calls/pd_calls_for_service_2016_datasd_v1.csv\")\n",
    "df_police_calls = pd.read_csv(\"/Users/sarahamiraslani/Desktop/cogs108_final_project/datasets/police_calls/pd_calls_for_service_2017_datasd_v1.csv\")\n",
    "df_police_calls = pd.read_csv(\"/Users/sarahamiraslani/Desktop/cogs108_final_project/datasets/police_calls/pd_calls_for_service_2018_datasd.csv\")\n",
    "df_police_calls = pd.read_csv(\"/Users/sarahamiraslani/Desktop/cogs108_final_project/datasets/police_calls/pd_calls_for_service_2019_datasd.csv\")"
   ]
  },
  {
   "cell_type": "markdown",
   "metadata": {},
   "source": [
    "# DATA CLEANING"
   ]
  },
  {
   "cell_type": "markdown",
   "metadata": {},
   "source": [
    "## df_collisions"
   ]
  },
  {
   "cell_type": "code",
   "execution_count": 11,
   "metadata": {},
   "outputs": [],
   "source": [
    "# Splitting datetime for the datasets\n",
    "\n",
    "# Splitting datetime for df_collisions\n",
    "# Creating seperate columns for Date and Time\n",
    "date_time = df_collisions['date_time'].str.split(' ', n=1, expand=True)\n",
    "df_collisions = df_collisions.drop(['date_time'], axis=1)\n",
    "df_collisions['date'] = date_time[0]\n",
    "df_collisions['time'] = date_time[1]"
   ]
  },
  {
   "cell_type": "code",
   "execution_count": 12,
   "metadata": {},
   "outputs": [],
   "source": [
    "# droping useless columns\n",
    "drop_cols_collision = ['address_pd_primary','address_pd_intersecting', 'address_name_intersecting', 'address_sfx_intersecting','report_id']\n",
    "df_collisions = df_collisions.drop(drop_cols_collision, axis = 1)\n"
   ]
  },
  {
   "cell_type": "code",
   "execution_count": 13,
   "metadata": {},
   "outputs": [],
   "source": [
    "# Making everything lowercase\n",
    "\n",
    "df_collisions['address_road_primary'] = df_collisions['address_road_primary'].str.lower()\n",
    "df_collisions['address_sfx_primary'] = df_collisions['address_sfx_primary'].str.lower()\n",
    "df_collisions['charge_desc'] = df_collisions['charge_desc'].str.lower()\n",
    "df_collisions['hit_run_lvl'] = df_collisions['hit_run_lvl'].str.lower()"
   ]
  },
  {
   "cell_type": "code",
   "execution_count": 14,
   "metadata": {},
   "outputs": [],
   "source": [
    "#stripping gets rid of extraneous spaces to allow for easier processing of data\n",
    "df_collisions['address_road_primary'] = df_collisions.address_road_primary.str.strip()\n",
    "df_collisions['address_sfx_primary'] = df_collisions.address_sfx_primary.str.strip()\n",
    "df_collisions['violation_section']= df_collisions.violation_section.str.strip()\n",
    "df_collisions['violation_type'] = df_collisions.violation_type.str.strip()\n",
    "df_collisions['charge_desc'] = df_collisions.charge_desc.str.strip()\n",
    "df_collisions['hit_run_lvl'] = df_collisions.hit_run_lvl.str.strip()"
   ]
  },
  {
   "cell_type": "code",
   "execution_count": 15,
   "metadata": {},
   "outputs": [],
   "source": [
    "# convert the 'Date' column to datetime format \n",
    "df_collisions['date']= pd.to_datetime(df_collisions['date']) \n",
    "df_collisions['time']= pd.to_datetime(df_collisions['time']) "
   ]
  },
  {
   "cell_type": "code",
   "execution_count": 16,
   "metadata": {},
   "outputs": [
    {
     "data": {
      "text/plain": [
       "police_beat                        int64\n",
       "address_number_primary             int64\n",
       "address_road_primary              object\n",
       "address_sfx_primary               object\n",
       "violation_section                 object\n",
       "violation_type                    object\n",
       "charge_desc                       object\n",
       "injured                            int64\n",
       "killed                             int64\n",
       "hit_run_lvl                       object\n",
       "date                      datetime64[ns]\n",
       "time                      datetime64[ns]\n",
       "dtype: object"
      ]
     },
     "execution_count": 16,
     "metadata": {},
     "output_type": "execute_result"
    }
   ],
   "source": [
    "df_collisions.dtypes"
   ]
  },
  {
   "cell_type": "markdown",
   "metadata": {},
   "source": [
    "## df_police calls"
   ]
  },
  {
   "cell_type": "code",
   "execution_count": 17,
   "metadata": {},
   "outputs": [],
   "source": [
    "# Change entries in col 'day_of_week' to represent the day of the week in words\n",
    "df_police_calls['day_of_week'] = df_police_calls['day_of_week'].replace(1,'Monday')\n",
    "df_police_calls['day_of_week'] = df_police_calls['day_of_week'].replace(2,'Tuesday')\n",
    "df_police_calls['day_of_week'] = df_police_calls['day_of_week'].replace(3,'Wednesday')\n",
    "df_police_calls['day_of_week'] = df_police_calls['day_of_week'].replace(4,'Thursday')\n",
    "df_police_calls['day_of_week'] = df_police_calls['day_of_week'].replace(5,'Friday')\n",
    "df_police_calls['day_of_week'] = df_police_calls['day_of_week'].replace(6,'Saturday')\n",
    "df_police_calls['day_of_week'] = df_police_calls['day_of_week'].replace(7,'Sunday')"
   ]
  },
  {
   "cell_type": "code",
   "execution_count": 18,
   "metadata": {},
   "outputs": [],
   "source": [
    "# Splitting datetime for df_police_calls\n",
    "date_time = df_police_calls['date_time'].str.split(' ', n=1, expand=True)\n",
    "df_police_calls = df_police_calls.drop(['date_time'], axis=1)\n",
    "df_police_calls['date'] = date_time[0]\n",
    "df_police_calls['time'] = date_time[1]"
   ]
  },
  {
   "cell_type": "code",
   "execution_count": 19,
   "metadata": {},
   "outputs": [],
   "source": [
    "# dropping useless columns\n",
    "drop_cols_calls = ['address_dir_primary', 'address_dir_intersecting','incident_num']\n",
    "\n",
    "df_police_calls = df_police_calls.drop(drop_cols_calls,axis = 1)"
   ]
  },
  {
   "cell_type": "code",
   "execution_count": 20,
   "metadata": {},
   "outputs": [],
   "source": [
    "# making everything lowercase\n",
    "df_police_calls['address_road_primary']=df_police_calls['address_road_primary'].str.lower()\n",
    "df_police_calls['address_road_intersecting']=df_police_calls['address_road_intersecting'].str.lower()\n",
    "df_police_calls['address_sfx_primary'] = df_police_calls['address_sfx_primary'].str.lower()\n"
   ]
  },
  {
   "cell_type": "code",
   "execution_count": 21,
   "metadata": {},
   "outputs": [],
   "source": [
    "# strip any extra spaces in string data\n",
    "df_police_calls['address_road_primary']= df_police_calls.address_road_primary.str.strip()\n",
    "df_police_calls['address_sfx_primary'] = df_police_calls.address_sfx_primary.str.strip()\n",
    "df_police_calls['address_road_intersecting']= df_police_calls.address_road_intersecting.str.strip()\n",
    "df_police_calls['call_type'] = df_police_calls.call_type.str.strip()\n",
    "df_police_calls['disposition'] = df_police_calls.disposition.str.strip()\n"
   ]
  },
  {
   "cell_type": "code",
   "execution_count": 22,
   "metadata": {},
   "outputs": [],
   "source": [
    "# convert the 'Date' column to datetime format \n",
    "\n",
    "df_police_calls['date']= pd.to_datetime(df_police_calls['date']) \n",
    "df_police_calls['time']= pd.to_datetime(df_police_calls['time']) "
   ]
  },
  {
   "cell_type": "code",
   "execution_count": 23,
   "metadata": {},
   "outputs": [
    {
     "data": {
      "text/plain": [
       "day_of_week                          object\n",
       "address_number_primary                int64\n",
       "address_road_primary                 object\n",
       "address_sfx_primary                  object\n",
       "address_road_intersecting            object\n",
       "address_sfx_intersecting            float64\n",
       "call_type                            object\n",
       "disposition                          object\n",
       "beat                                  int64\n",
       "priority                              int64\n",
       "date                         datetime64[ns]\n",
       "time                         datetime64[ns]\n",
       "dtype: object"
      ]
     },
     "execution_count": 23,
     "metadata": {},
     "output_type": "execute_result"
    }
   ],
   "source": [
    "df_police_calls.dtypes"
   ]
  },
  {
   "cell_type": "markdown",
   "metadata": {},
   "source": [
    "## df_police_stops"
   ]
  },
  {
   "cell_type": "code",
   "execution_count": 24,
   "metadata": {},
   "outputs": [],
   "source": [
    "drop_cols_stops = ['isstudent', 'gend_nc','agency','stop_id']\n",
    "df_police_stops = df_police_stops.drop(drop_cols_stops, axis = 1)"
   ]
  },
  {
   "cell_type": "code",
   "execution_count": 25,
   "metadata": {},
   "outputs": [],
   "source": [
    "# making everything lowercase\n",
    "\n",
    "df_police_stops['address_city'] = df_police_stops['address_city'].str.lower()\n"
   ]
  },
  {
   "cell_type": "markdown",
   "metadata": {},
   "source": [
    "We can probably merge **address_road_primary** and **address_sfx_primary**"
   ]
  },
  {
   "cell_type": "code",
   "execution_count": 26,
   "metadata": {
    "scrolled": true
   },
   "outputs": [
    {
     "data": {
      "text/plain": [
       "ori                           object\n",
       "exp_years                      int64\n",
       "date_stop                     object\n",
       "time_stop                     object\n",
       "stopduration                   int64\n",
       "stop_in_response_to_cfs        int64\n",
       "officer_assignment_key         int64\n",
       "assignment                    object\n",
       "intersection                  object\n",
       "address_block                float64\n",
       "land_mark                     object\n",
       "address_street                object\n",
       "highway_exit                  object\n",
       "isschool                       int64\n",
       "school_name                   object\n",
       "address_city                  object\n",
       "beat                           int64\n",
       "beat_name                     object\n",
       "pid                            int64\n",
       "perceived_limited_english      int64\n",
       "perceived_age                  int64\n",
       "perceived_gender              object\n",
       "gender_nonconforming           int64\n",
       "gend                           int64\n",
       "perceived_lgbt                object\n",
       "dtype: object"
      ]
     },
     "execution_count": 26,
     "metadata": {},
     "output_type": "execute_result"
    }
   ],
   "source": [
    "df_police_stops.dtypes"
   ]
  },
  {
   "cell_type": "code",
   "execution_count": 27,
   "metadata": {},
   "outputs": [
    {
     "data": {
      "text/html": [
       "<div>\n",
       "<style scoped>\n",
       "    .dataframe tbody tr th:only-of-type {\n",
       "        vertical-align: middle;\n",
       "    }\n",
       "\n",
       "    .dataframe tbody tr th {\n",
       "        vertical-align: top;\n",
       "    }\n",
       "\n",
       "    .dataframe thead th {\n",
       "        text-align: right;\n",
       "    }\n",
       "</style>\n",
       "<table border=\"1\" class=\"dataframe\">\n",
       "  <thead>\n",
       "    <tr style=\"text-align: right;\">\n",
       "      <th></th>\n",
       "      <th>police_beat</th>\n",
       "      <th>address_number_primary</th>\n",
       "      <th>address_road_primary</th>\n",
       "      <th>address_sfx_primary</th>\n",
       "      <th>violation_section</th>\n",
       "      <th>violation_type</th>\n",
       "      <th>charge_desc</th>\n",
       "      <th>injured</th>\n",
       "      <th>killed</th>\n",
       "      <th>hit_run_lvl</th>\n",
       "      <th>date</th>\n",
       "      <th>time</th>\n",
       "    </tr>\n",
       "  </thead>\n",
       "  <tbody>\n",
       "    <tr>\n",
       "      <th>0</th>\n",
       "      <td>935</td>\n",
       "      <td>5500</td>\n",
       "      <td>valerio</td>\n",
       "      <td>trail</td>\n",
       "      <td>MISC-HAZ</td>\n",
       "      <td>VC</td>\n",
       "      <td>miscellaneous hazardous violations of the vehi...</td>\n",
       "      <td>0</td>\n",
       "      <td>0</td>\n",
       "      <td>misdemeanor</td>\n",
       "      <td>2017-01-01</td>\n",
       "      <td>2019-11-05 00:01:00</td>\n",
       "    </tr>\n",
       "    <tr>\n",
       "      <th>1</th>\n",
       "      <td>322</td>\n",
       "      <td>6400</td>\n",
       "      <td>crawford</td>\n",
       "      <td>street</td>\n",
       "      <td>MISC-HAZ</td>\n",
       "      <td>VC</td>\n",
       "      <td>miscellaneous hazardous violations of the vehi...</td>\n",
       "      <td>0</td>\n",
       "      <td>0</td>\n",
       "      <td>misdemeanor</td>\n",
       "      <td>2017-01-01</td>\n",
       "      <td>2019-11-05 00:01:00</td>\n",
       "    </tr>\n",
       "    <tr>\n",
       "      <th>2</th>\n",
       "      <td>124</td>\n",
       "      <td>8300</td>\n",
       "      <td>cam del oro</td>\n",
       "      <td></td>\n",
       "      <td>MISC-HAZ</td>\n",
       "      <td>VC</td>\n",
       "      <td>miscellaneous hazardous violations of the vehi...</td>\n",
       "      <td>0</td>\n",
       "      <td>0</td>\n",
       "      <td>misdemeanor</td>\n",
       "      <td>2017-01-01</td>\n",
       "      <td>2019-11-05 00:01:00</td>\n",
       "    </tr>\n",
       "    <tr>\n",
       "      <th>3</th>\n",
       "      <td>325</td>\n",
       "      <td>8100</td>\n",
       "      <td>royal gorge</td>\n",
       "      <td>drive</td>\n",
       "      <td>22107</td>\n",
       "      <td>VC</td>\n",
       "      <td>turning movements and required signals</td>\n",
       "      <td>0</td>\n",
       "      <td>0</td>\n",
       "      <td>misdemeanor</td>\n",
       "      <td>2017-01-01</td>\n",
       "      <td>2019-11-05 00:01:00</td>\n",
       "    </tr>\n",
       "    <tr>\n",
       "      <th>4</th>\n",
       "      <td>521</td>\n",
       "      <td>1000</td>\n",
       "      <td>11th</td>\n",
       "      <td>avenue</td>\n",
       "      <td>22107</td>\n",
       "      <td>VC</td>\n",
       "      <td>turning movements and required signals</td>\n",
       "      <td>0</td>\n",
       "      <td>0</td>\n",
       "      <td>misdemeanor</td>\n",
       "      <td>2017-01-01</td>\n",
       "      <td>2019-11-05 01:00:00</td>\n",
       "    </tr>\n",
       "  </tbody>\n",
       "</table>\n",
       "</div>"
      ],
      "text/plain": [
       "   police_beat  address_number_primary address_road_primary  \\\n",
       "0          935                    5500              valerio   \n",
       "1          322                    6400             crawford   \n",
       "2          124                    8300          cam del oro   \n",
       "3          325                    8100          royal gorge   \n",
       "4          521                    1000                 11th   \n",
       "\n",
       "  address_sfx_primary violation_section violation_type  \\\n",
       "0               trail          MISC-HAZ             VC   \n",
       "1              street          MISC-HAZ             VC   \n",
       "2                              MISC-HAZ             VC   \n",
       "3               drive             22107             VC   \n",
       "4              avenue             22107             VC   \n",
       "\n",
       "                                         charge_desc  injured  killed  \\\n",
       "0  miscellaneous hazardous violations of the vehi...        0       0   \n",
       "1  miscellaneous hazardous violations of the vehi...        0       0   \n",
       "2  miscellaneous hazardous violations of the vehi...        0       0   \n",
       "3             turning movements and required signals        0       0   \n",
       "4             turning movements and required signals        0       0   \n",
       "\n",
       "   hit_run_lvl       date                time  \n",
       "0  misdemeanor 2017-01-01 2019-11-05 00:01:00  \n",
       "1  misdemeanor 2017-01-01 2019-11-05 00:01:00  \n",
       "2  misdemeanor 2017-01-01 2019-11-05 00:01:00  \n",
       "3  misdemeanor 2017-01-01 2019-11-05 00:01:00  \n",
       "4  misdemeanor 2017-01-01 2019-11-05 01:00:00  "
      ]
     },
     "execution_count": 27,
     "metadata": {},
     "output_type": "execute_result"
    }
   ],
   "source": [
    "df_collisions.head()"
   ]
  },
  {
   "cell_type": "markdown",
   "metadata": {},
   "source": [
    "visualization tools: https://medium.com/@stallonejacob/d3-in-juypter-notebook-685d6dca75c8"
   ]
  },
  {
   "cell_type": "markdown",
   "metadata": {},
   "source": [
    "## Geospatial tools\n",
    "- Geojson: https://pypi.org/project/geojson/\n",
    "    - https://www.datacamp.com/community/tutorials/geospatial-data-python\n",
    "- GeoPandas: http://geopandas.org/"
   ]
  }
 ],
 "metadata": {
  "kernelspec": {
   "display_name": "Python 3",
   "language": "python",
   "name": "python3"
  },
  "language_info": {
   "codemirror_mode": {
    "name": "ipython",
    "version": 3
   },
   "file_extension": ".py",
   "mimetype": "text/x-python",
   "name": "python",
   "nbconvert_exporter": "python",
   "pygments_lexer": "ipython3",
   "version": "3.7.1"
  }
 },
 "nbformat": 4,
 "nbformat_minor": 2
}
